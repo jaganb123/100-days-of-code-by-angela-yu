{
 "cells": [
  {
   "cell_type": "code",
   "execution_count": 1,
   "metadata": {},
   "outputs": [
    {
     "name": "stdout",
     "output_type": "stream",
     "text": [
      "['/Users/jegan.babu/Downloads/VScode Projects/day 51 - internet speed test', '/Users/jegan.babu/Downloads/VScode Projects/day 51 - internet speed test/tests', '/usr/local/Cellar/python@3.11/3.11.1/Frameworks/Python.framework/Versions/3.11/lib/python311.zip', '/usr/local/Cellar/python@3.11/3.11.1/Frameworks/Python.framework/Versions/3.11/lib/python3.11', '/usr/local/Cellar/python@3.11/3.11.1/Frameworks/Python.framework/Versions/3.11/lib/python3.11/lib-dynload', '', '/Users/jegan.babu/Downloads/VScode Projects/day 51 - internet speed test/.venv/lib/python3.11/site-packages']\n"
     ]
    }
   ],
   "source": [
    "import os, sys\n",
    "sys.path.insert(0, os.path.abspath('..'))\n",
    "print(sys.path)"
   ]
  },
  {
   "cell_type": "code",
   "execution_count": 2,
   "metadata": {},
   "outputs": [],
   "source": [
    "from lib.internet_speed import InternetSpeedTwitterBot\n",
    "from selenium.webdriver.common.by import By\n",
    "import time\n",
    "\n",
    "internet_speed = InternetSpeedTwitterBot()\n"
   ]
  },
  {
   "cell_type": "code",
   "execution_count": 3,
   "metadata": {},
   "outputs": [
    {
     "name": "stdout",
     "output_type": "stream",
     "text": [
      "{'download': {'speed': 31.08, 'unit': 'Mbps'}, 'upload': {'speed': 33.23, 'unit': 'Mbps'}}\n"
     ]
    }
   ],
   "source": [
    "my_speed = internet_speed.get_internet_speed()\n",
    "print(my_speed)\n"
   ]
  },
  {
   "cell_type": "code",
   "execution_count": 10,
   "metadata": {},
   "outputs": [],
   "source": [
    "internet = my_speed\n",
    "message = (\"Hei, My internet speed is >> \"\n",
    "           f\"download speed is {internet['download']['speed']} {internet['download']['unit']}, \"\n",
    "           f\"my upload speed is {internet['upload']['speed']} {internet['upload']['unit']}...\")\n"
   ]
  },
  {
   "cell_type": "code",
   "execution_count": 11,
   "metadata": {},
   "outputs": [
    {
     "name": "stdout",
     "output_type": "stream",
     "text": [
      "Message: The element reference of <span class=\"css-901oao css-16my406 r-poiln3 r-bcqeeo r-qvutc0\"> is stale; either the element is no longer attached to the DOM, it is not in the current frame context, or the document has been refreshed\n",
      "Stacktrace:\n",
      "RemoteError@chrome://remote/content/shared/RemoteError.sys.mjs:8:8\n",
      "WebDriverError@chrome://remote/content/shared/webdriver/Errors.sys.mjs:180:5\n",
      "StaleElementReferenceError@chrome://remote/content/shared/webdriver/Errors.sys.mjs:461:5\n",
      "element.resolveElement@chrome://remote/content/marionette/element.sys.mjs:674:11\n",
      "evaluate.fromJSON@chrome://remote/content/marionette/evaluate.sys.mjs:255:31\n",
      "evaluate.fromJSON@chrome://remote/content/marionette/evaluate.sys.mjs:263:29\n",
      "receiveMessage@chrome://remote/content/marionette/actors/MarionetteCommandsChild.sys.mjs:74:34\n",
      "\n"
     ]
    }
   ],
   "source": [
    "tweet = internet_speed.tweet_at_provider(message)"
   ]
  },
  {
   "cell_type": "code",
   "execution_count": 6,
   "metadata": {},
   "outputs": [],
   "source": [
    "from selenium.webdriver.common.action_chains import ActionChains"
   ]
  },
  {
   "cell_type": "code",
   "execution_count": 18,
   "metadata": {},
   "outputs": [],
   "source": [
    "message_draft = internet_speed.driver.find_element(By.CSS_SELECTOR, 'a[aria-label=\"Tweet\"]')\n",
    "message_draft.click()\n",
    "time.sleep(1)\n",
    "message = internet_speed.driver.find_element(By.CSS_SELECTOR, 'div.public-DraftEditorPlaceholder-root')\n",
    "action = ActionChains(internet_speed.driver)\n",
    "action.move_to_element(message)\n",
    "action.click()\n",
    "action.send_keys(\"ABCD\")\n",
    "action.perform()"
   ]
  },
  {
   "cell_type": "code",
   "execution_count": 10,
   "metadata": {},
   "outputs": [],
   "source": [
    "message = internet_speed.driver.find_element(By.CSS_SELECTOR, 'div.public-DraftEditorPlaceholder-root')\n",
    "action = ActionChains(internet_speed.driver)\n",
    "action.move_to_element(message)\n",
    "action.click()\n",
    "action.send_keys(\"ABCD\")\n",
    "action.move_to_element(internet_speed.driver.find_element(By.CSS_SELECTOR, 'div[role=\"button\"][data-testid=\"tweetButton\"]'))\n",
    "action.click()\n",
    "action.perform()"
   ]
  },
  {
   "cell_type": "code",
   "execution_count": 12,
   "metadata": {},
   "outputs": [],
   "source": [
    "internet_speed.driver.get(\"https://twitter.com/home\")"
   ]
  },
  {
   "cell_type": "code",
   "execution_count": 18,
   "metadata": {},
   "outputs": [],
   "source": [
    "internet_speed.driver.get(\"https://twitter.com/i/flow/login\")\n",
    "\n"
   ]
  },
  {
   "cell_type": "code",
   "execution_count": 21,
   "metadata": {},
   "outputs": [],
   "source": [
    "from selenium.webdriver.common.keys import Keys\n",
    "login = internet_speed.driver.find_element(By.XPATH, \"/html/body/div/div/div/div[1]/div/div/div/div/div/div/div[2]/div[2]/div/div/div[2]/div[2]/div/div/div/div[5]/label/div/div[2]/div/input\")\n",
    "login.send_keys(\"jagan22219971@gmail.com\")\n",
    "login.send_keys(Keys.ENTER)\n",
    "time.sleep(5)\n"
   ]
  },
  {
   "cell_type": "code",
   "execution_count": 23,
   "metadata": {},
   "outputs": [],
   "source": [
    "password = internet_speed.driver.find_element(By.CSS_SELECTOR, 'input[name=\"password\"]')\n",
    "password.send_keys(\"JAGANjagan1997\")\n",
    "password.send_keys(Keys.ENTER)"
   ]
  },
  {
   "cell_type": "code",
   "execution_count": 24,
   "metadata": {},
   "outputs": [
    {
     "data": {
      "text/plain": [
       "['5a359d51-22ed-4299-83c1-26590b03b656']"
      ]
     },
     "execution_count": 24,
     "metadata": {},
     "output_type": "execute_result"
    }
   ],
   "source": [
    "internet_speed.driver.window_handles"
   ]
  },
  {
   "cell_type": "code",
   "execution_count": null,
   "metadata": {},
   "outputs": [],
   "source": []
  }
 ],
 "metadata": {
  "kernelspec": {
   "display_name": ".venv",
   "language": "python",
   "name": "python3"
  },
  "language_info": {
   "codemirror_mode": {
    "name": "ipython",
    "version": 3
   },
   "file_extension": ".py",
   "mimetype": "text/x-python",
   "name": "python",
   "nbconvert_exporter": "python",
   "pygments_lexer": "ipython3",
   "version": "3.11.1"
  },
  "orig_nbformat": 4,
  "vscode": {
   "interpreter": {
    "hash": "837b3029a74b0ebcf00f683734e13ddf460ac4f7da50693e7064a680607ab242"
   }
  }
 },
 "nbformat": 4,
 "nbformat_minor": 2
}
