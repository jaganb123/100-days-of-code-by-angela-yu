{
 "cells": [
  {
   "cell_type": "code",
   "execution_count": 1,
   "metadata": {},
   "outputs": [],
   "source": [
    "from sqlalchemy import create_engine\n",
    "from sqlalchemy import Integer, String, ForeignKey\n",
    "from sqlalchemy.orm import DeclarativeBase, Mapped, mapped_column, relationship\n",
    "from typing import List, Optional\n",
    "from sqlalchemy import insert\n",
    "from sqlalchemy.orm import Session, aliased\n",
    "from sqlalchemy import select, bindparam\n",
    "from sqlalchemy import literal_column\n",
    "from sqlalchemy import and_, or_, func\n",
    "from sqlalchemy import asc, desc\n",
    "\n",
    "class Base(DeclarativeBase):\n",
    "    pass\n",
    "\n",
    "class User(Base):\n",
    "    __tablename__ = \"user_account\"\n",
    "    id: Mapped[int] = mapped_column(primary_key=True)\n",
    "    name: Mapped[str] = mapped_column(String(30))\n",
    "    fullname: Mapped[Optional[str]]\n",
    "\n",
    "    addresses: Mapped[List[\"Address\"]] = relationship(back_populates=\"user\")\n",
    "\n",
    "    def __repr__(self) -> str:\n",
    "        return f\"User(id={self.id!r}, name={self.name}, fullname={self.fullname})\"\n",
    "\n",
    "class Address(Base):\n",
    "    __tablename__ = \"address\"\n",
    "    id: Mapped[int] = mapped_column(Integer, primary_key=True)\n",
    "    email_address: Mapped[str]\n",
    "    user_id = mapped_column(ForeignKey(\"user_account.id\"))\n",
    "\n",
    "\n",
    "    user: Mapped[List[\"User\"]] = relationship(back_populates=\"addresses\")\n",
    "\n",
    "    def __repr__(self) -> str:\n",
    "        return f\"Address(id={self.id}, user_id={self.user_id}, email_address={self.email_address})\"\n",
    "\n",
    "\n",
    "engine = create_engine(\"sqlite+pysqlite:///instances/user.db\", echo=True)\n",
    "\n"
   ]
  },
  {
   "cell_type": "code",
   "execution_count": 2,
   "metadata": {},
   "outputs": [
    {
     "name": "stdout",
     "output_type": "stream",
     "text": [
      "2023-12-10 10:35:35,184 INFO sqlalchemy.engine.Engine BEGIN (implicit)\n",
      "2023-12-10 10:35:35,191 INFO sqlalchemy.engine.Engine PRAGMA main.table_info(\"user_account\")\n",
      "2023-12-10 10:35:35,192 INFO sqlalchemy.engine.Engine [raw sql] ()\n",
      "2023-12-10 10:35:35,196 INFO sqlalchemy.engine.Engine PRAGMA main.table_info(\"address\")\n",
      "2023-12-10 10:35:35,199 INFO sqlalchemy.engine.Engine [raw sql] ()\n",
      "2023-12-10 10:35:35,201 INFO sqlalchemy.engine.Engine COMMIT\n"
     ]
    }
   ],
   "source": [
    "Base.metadata.create_all(engine)"
   ]
  },
  {
   "cell_type": "code",
   "execution_count": 9,
   "metadata": {},
   "outputs": [
    {
     "name": "stdout",
     "output_type": "stream",
     "text": [
      "2023-12-06 11:35:17,960 INFO sqlalchemy.engine.Engine BEGIN (implicit)\n",
      "2023-12-06 11:35:17,993 INFO sqlalchemy.engine.Engine INSERT INTO user_account (name, fullname) VALUES (?, ?), (?, ?), (?, ?)\n",
      "2023-12-06 11:35:18,001 INFO sqlalchemy.engine.Engine [no key 0.00929s] ('sandy', 'Sandy Miles', 'tony', 'Tony Stark', 'thor', 'The Mighty Thor')\n",
      "2023-12-06 11:35:18,025 INFO sqlalchemy.engine.Engine COMMIT\n"
     ]
    }
   ],
   "source": [
    "insert_stmt = insert(User).values(\n",
    "    [{\"name\": \"sandy\", \"fullname\": \"Sandy Miles\"},\n",
    "     {\"name\": \"tony\", \"fullname\":\"Tony Stark\"},\n",
    "     {\"name\": \"thor\", \"fullname\": \"The Mighty Thor\"}]\n",
    ")\n",
    "\n",
    "with Session(engine) as conn:\n",
    "    result = conn.execute(insert_stmt)\n",
    "    conn.commit()"
   ]
  },
  {
   "cell_type": "code",
   "execution_count": 11,
   "metadata": {},
   "outputs": [
    {
     "name": "stdout",
     "output_type": "stream",
     "text": [
      "2023-12-06 11:51:04,287 INFO sqlalchemy.engine.Engine BEGIN (implicit)\n",
      "2023-12-06 11:51:04,308 INFO sqlalchemy.engine.Engine INSERT INTO address (email_address, user_id) VALUES (?, (SELECT user_account.id \n",
      "FROM user_account \n",
      "WHERE user_account.name = ?))\n",
      "2023-12-06 11:51:04,319 INFO sqlalchemy.engine.Engine [cached since 53.24s ago] [('sandy@aol.com', 'sandy'), ('tony.start@aol.com', 'tony'), ('baby.thor@aol.com', 'thor')]\n",
      "2023-12-06 11:51:04,325 INFO sqlalchemy.engine.Engine COMMIT\n"
     ]
    }
   ],
   "source": [
    "sub_query = select(User.id).where(User.name == bindparam(\"username\")).scalar_subquery()\n",
    "\n",
    "with Session(engine) as session:\n",
    "    result = session.execute(insert(Address).values(user_id=sub_query),\n",
    "                             [\n",
    "                               {\"username\": \"sandy\", \"email_address\": \"sandy@aol.com\"},\n",
    "                               {\"username\": \"tony\", \"email_address\": \"tony.start@aol.com\"},\n",
    "                               {\"username\": \"thor\", \"email_address\": \"baby.thor@aol.com\"}\n",
    "                             ])\n",
    "    session.commit()\n",
    "\n"
   ]
  },
  {
   "cell_type": "code",
   "execution_count": 2,
   "metadata": {},
   "outputs": [
    {
     "name": "stdout",
     "output_type": "stream",
     "text": [
      "2023-12-09 10:25:15,734 INFO sqlalchemy.engine.Engine BEGIN (implicit)\n",
      "2023-12-09 10:25:15,871 INFO sqlalchemy.engine.Engine INSERT INTO address (email_address, user_id) VALUES (?, (SELECT user_account.id \n",
      "FROM user_account \n",
      "WHERE user_account.name = ?))\n",
      "2023-12-09 10:25:15,873 INFO sqlalchemy.engine.Engine [generated in 0.00192s] [('sandy@example.com', 'sandy'), ('tony.start@example.com', 'tony'), ('baby.thor@example.com', 'thor')]\n",
      "2023-12-09 10:25:15,879 INFO sqlalchemy.engine.Engine COMMIT\n"
     ]
    }
   ],
   "source": [
    "sub_query = select(User.id).where(User.name == bindparam(\"username\")).scalar_subquery()\n",
    "\n",
    "with Session(engine) as session:\n",
    "    result = session.execute(insert(Address).values(user_id=sub_query),\n",
    "                             [\n",
    "                               {\"username\": \"sandy\", \"email_address\": \"sandy@example.com\"},\n",
    "                               {\"username\": \"tony\", \"email_address\": \"tony.start@example.com\"},\n",
    "                               {\"username\": \"thor\", \"email_address\": \"baby.thor@example.com\"}\n",
    "                             ])\n",
    "    session.commit()\n",
    "\n"
   ]
  },
  {
   "cell_type": "code",
   "execution_count": 3,
   "metadata": {},
   "outputs": [
    {
     "name": "stdout",
     "output_type": "stream",
     "text": [
      "SELECT user_account.id, user_account.name, user_account.fullname \n",
      "FROM user_account \n",
      "WHERE user_account.name = :name_1\n",
      "2023-12-10 10:36:11,656 INFO sqlalchemy.engine.Engine BEGIN (implicit)\n",
      "2023-12-10 10:36:11,662 INFO sqlalchemy.engine.Engine SELECT user_account.id, user_account.name, user_account.fullname \n",
      "FROM user_account \n",
      "WHERE user_account.name = ?\n",
      "2023-12-10 10:36:11,663 INFO sqlalchemy.engine.Engine [generated in 0.00104s] ('sandy',)\n",
      "(User(id=1, name=sandy, fullname=Sandy Miles),)\n",
      "2023-12-10 10:36:11,670 INFO sqlalchemy.engine.Engine ROLLBACK\n"
     ]
    }
   ],
   "source": [
    "stmt = select(User).where(User.name == \"sandy\")\n",
    "print(stmt)\n",
    "with Session(engine) as session:\n",
    "    for row in session.execute(stmt):\n",
    "        print(row)"
   ]
  },
  {
   "cell_type": "code",
   "execution_count": 5,
   "metadata": {},
   "outputs": [
    {
     "name": "stdout",
     "output_type": "stream",
     "text": [
      "2023-12-07 10:35:36,817 INFO sqlalchemy.engine.Engine BEGIN (implicit)\n",
      "2023-12-07 10:35:36,827 INFO sqlalchemy.engine.Engine SELECT user_account.id, user_account.name, user_account.fullname \n",
      "FROM user_account\n",
      "2023-12-07 10:35:36,833 INFO sqlalchemy.engine.Engine [generated in 0.00611s] ()\n",
      "(User(id=1, name=sandy, fullname=Sandy Miles),)\n"
     ]
    }
   ],
   "source": [
    "row = session.execute(select(User)).first()\n",
    "print(row)"
   ]
  },
  {
   "cell_type": "code",
   "execution_count": 6,
   "metadata": {},
   "outputs": [
    {
     "name": "stdout",
     "output_type": "stream",
     "text": [
      "2023-12-07 10:35:40,125 INFO sqlalchemy.engine.Engine SELECT user_account.id, user_account.name, user_account.fullname \n",
      "FROM user_account\n",
      "2023-12-07 10:35:40,128 INFO sqlalchemy.engine.Engine [cached since 3.301s ago] ()\n",
      "[User(id=1, name=sandy, fullname=Sandy Miles), User(id=2, name=tony, fullname=Tony Stark), User(id=3, name=thor, fullname=The Mighty Thor)]\n"
     ]
    }
   ],
   "source": [
    "row = session.scalars(select(User)).fetchall()\n",
    "print(row)"
   ]
  },
  {
   "cell_type": "code",
   "execution_count": 8,
   "metadata": {},
   "outputs": [
    {
     "name": "stdout",
     "output_type": "stream",
     "text": [
      "2023-12-07 10:35:54,122 INFO sqlalchemy.engine.Engine SELECT user_account.name, user_account.fullname \n",
      "FROM user_account\n",
      "2023-12-07 10:35:54,126 INFO sqlalchemy.engine.Engine [cached since 10.12s ago] ()\n",
      "('sandy', 'Sandy Miles')\n"
     ]
    }
   ],
   "source": [
    "row = session.execute(select(User.name, User.fullname)).first()\n",
    "print(row)"
   ]
  },
  {
   "cell_type": "code",
   "execution_count": 9,
   "metadata": {},
   "outputs": [
    {
     "name": "stdout",
     "output_type": "stream",
     "text": [
      "2023-12-07 10:36:03,178 INFO sqlalchemy.engine.Engine SELECT user_account.name, address.email_address \n",
      "FROM user_account, address \n",
      "WHERE user_account.id = address.user_id ORDER BY address.id\n",
      "2023-12-07 10:36:03,183 INFO sqlalchemy.engine.Engine [generated in 0.00560s] ()\n",
      "[('sandy', 'sandy@aol.com'), ('tony', 'tony.start@aol.com'), ('thor', 'baby.thor@aol.com')]\n"
     ]
    }
   ],
   "source": [
    "row = session.execute(select(User.name, Address.email_address).where(User.id == Address.user_id).order_by(Address.id)).fetchall()\n",
    "print(row)"
   ]
  },
  {
   "cell_type": "code",
   "execution_count": 10,
   "metadata": {},
   "outputs": [
    {
     "name": "stdout",
     "output_type": "stream",
     "text": [
      "2023-12-07 10:36:17,475 INFO sqlalchemy.engine.Engine SELECT ? || user_account.name AS username \n",
      "FROM user_account, address \n",
      "WHERE user_account.id = address.user_id ORDER BY address.id\n",
      "2023-12-07 10:36:17,478 INFO sqlalchemy.engine.Engine [generated in 0.00303s] ('user details: ',)\n",
      "[('user details: sandy',), ('user details: tony',), ('user details: thor',)]\n"
     ]
    }
   ],
   "source": [
    "row = session.execute(select((\"user details: \" + User.name).label(\"username\")).where(User.id == Address.user_id).order_by(Address.id)).fetchall()\n",
    "print(row)"
   ]
  },
  {
   "cell_type": "code",
   "execution_count": 21,
   "metadata": {},
   "outputs": [
    {
     "name": "stdout",
     "output_type": "stream",
     "text": [
      "2023-12-07 10:46:01,840 INFO sqlalchemy.engine.Engine SELECT 'user_details' AS p, user_account.name, address.email_address \n",
      "FROM user_account, address \n",
      "WHERE user_account.id = address.user_id ORDER BY address.id\n",
      "2023-12-07 10:46:01,844 INFO sqlalchemy.engine.Engine [cached since 526.6s ago] ()\n",
      "user_details: sandy, sandy@aol.com\n",
      "user_details: tony, tony.start@aol.com\n",
      "user_details: thor, baby.thor@aol.com\n"
     ]
    }
   ],
   "source": [
    "\n",
    "row = session.execute(select(literal_column(\"'user_details'\").label(\"p\"), User.name, Address.email_address).where(User.id == Address.user_id).order_by(Address.id)).fetchall()\n",
    "for rows in row:\n",
    "    print(f\"{rows.p}: {rows.name}, {rows.email_address}\")\n"
   ]
  },
  {
   "cell_type": "code",
   "execution_count": 40,
   "metadata": {},
   "outputs": [
    {
     "name": "stdout",
     "output_type": "stream",
     "text": [
      "SELECT user_account.name, address.email_address \n",
      "FROM user_account, address\n"
     ]
    }
   ],
   "source": [
    "row = select(User.name, Address.email_address)\n",
    "print(row)"
   ]
  },
  {
   "cell_type": "code",
   "execution_count": 21,
   "metadata": {},
   "outputs": [
    {
     "name": "stdout",
     "output_type": "stream",
     "text": [
      "user_account.id = :id_1\n"
     ]
    }
   ],
   "source": [
    "print(User.id == 1)\n",
    "row = select(User).where(and_(or_(User.name == \"sandy\", User.name == \"tony\"), User.id == 1))"
   ]
  },
  {
   "cell_type": "code",
   "execution_count": 58,
   "metadata": {},
   "outputs": [
    {
     "name": "stdout",
     "output_type": "stream",
     "text": [
      "SELECT user_account.name, address.email_address \n",
      "FROM user_account JOIN address ON user_account.id = address.user_id\n"
     ]
    }
   ],
   "source": [
    "row = select(User.name, Address.email_address).join(Address)\n",
    "print(row)"
   ]
  },
  {
   "cell_type": "code",
   "execution_count": 46,
   "metadata": {},
   "outputs": [
    {
     "name": "stdout",
     "output_type": "stream",
     "text": [
      "SELECT user_account.id, user_account.name, user_account.fullname, address.email_address \n",
      "FROM user_account JOIN address ON user_account.id = address.user_id\n"
     ]
    }
   ],
   "source": [
    "row = select(User, Address.email_address).join(Address)\n",
    "print(row)"
   ]
  },
  {
   "cell_type": "code",
   "execution_count": 61,
   "metadata": {},
   "outputs": [
    {
     "name": "stdout",
     "output_type": "stream",
     "text": [
      "SELECT address.email_address \n",
      "FROM user_account JOIN address ON user_account.id = address.user_id\n"
     ]
    }
   ],
   "source": [
    "row = select(Address.email_address).select_from(User).join(Address)\n",
    "print(row)"
   ]
  },
  {
   "cell_type": "code",
   "execution_count": 65,
   "metadata": {},
   "outputs": [
    {
     "name": "stdout",
     "output_type": "stream",
     "text": [
      "SELECT count(:count_2) AS count_1 \n",
      "FROM user_account\n"
     ]
    }
   ],
   "source": [
    "row = select(func.count(\"*\")).select_from(User)\n",
    "print(row)"
   ]
  },
  {
   "cell_type": "code",
   "execution_count": 67,
   "metadata": {},
   "outputs": [
    {
     "name": "stdout",
     "output_type": "stream",
     "text": [
      "SELECT address.email_address \n",
      "FROM user_account JOIN address ON user_account.id = address.user_id\n"
     ]
    }
   ],
   "source": [
    "#setting JOIN Clause\n",
    "row = select(Address.email_address).select_from(User).join(Address, User.id == Address.user_id)\n",
    "print(row)"
   ]
  },
  {
   "cell_type": "code",
   "execution_count": 73,
   "metadata": {},
   "outputs": [
    {
     "name": "stdout",
     "output_type": "stream",
     "text": [
      "SELECT user_account.id, user_account.name, user_account.fullname, address.email_address \n",
      "FROM user_account LEFT OUTER JOIN address ON user_account.id = address.user_id\n"
     ]
    }
   ],
   "source": [
    "# left outer join\n",
    "row = select(User, Address.email_address).join(Address, isouter=True)\n",
    "print(row)"
   ]
  },
  {
   "cell_type": "code",
   "execution_count": 4,
   "metadata": {},
   "outputs": [
    {
     "name": "stdout",
     "output_type": "stream",
     "text": [
      "SELECT user_account.id, user_account.name, user_account.fullname \n",
      "FROM user_account ORDER BY user_account.name DESC\n"
     ]
    }
   ],
   "source": [
    "# order by\n",
    "row = select(User).order_by(User.name.desc())\n",
    "print(row)"
   ]
  },
  {
   "cell_type": "code",
   "execution_count": 9,
   "metadata": {},
   "outputs": [
    {
     "name": "stdout",
     "output_type": "stream",
     "text": [
      "count(address.id)\n",
      "SELECT user_account.id, count(address.id) AS count \n",
      "FROM user_account JOIN address ON user_account.id = address.user_id GROUP BY user_account.name \n",
      "HAVING count(address.id) > :count_1\n"
     ]
    }
   ],
   "source": [
    "# Aggregate functions with GROUP BY / HAVING\n",
    "\n",
    "count_func = func.count(Address.id)\n",
    "print(count_func)\n",
    "\n",
    "row = select(User.id, func.count(Address.id).label(\"count\")).join(Address).group_by(User.name).having(func.count(Address.id) > 0)\n",
    "print(row)"
   ]
  },
  {
   "cell_type": "code",
   "execution_count": 4,
   "metadata": {},
   "outputs": [
    {
     "name": "stdout",
     "output_type": "stream",
     "text": [
      "SELECT address.user_id, count(address.id) AS num_addresses \n",
      "FROM address GROUP BY address.user_id ORDER BY address.user_id, num_addresses DESC\n"
     ]
    }
   ],
   "source": [
    "row = select(Address.user_id, func.count(Address.id).label(\"num_addresses\")).group_by(\"user_id\").order_by(\"user_id\", desc(\"num_addresses\"))\n",
    "print(row)"
   ]
  },
  {
   "cell_type": "code",
   "execution_count": 7,
   "metadata": {},
   "outputs": [
    {
     "name": "stdout",
     "output_type": "stream",
     "text": [
      "SELECT user_account_1.name, user_account_2.name AS name_1 \n",
      "FROM user_account AS user_account_1 JOIN user_account AS user_account_2 ON user_account_1.id > user_account_2.id\n"
     ]
    }
   ],
   "source": [
    "user_alias_1 = aliased(User)\n",
    "user_alias_2 = aliased(User)\n",
    "row = select(user_alias_1.name, user_alias_2.name).join_from(user_alias_1, user_alias_2, user_alias_1.id > user_alias_2.id)\n",
    "print(row)"
   ]
  },
  {
   "cell_type": "code",
   "execution_count": 3,
   "metadata": {},
   "outputs": [
    {
     "name": "stdout",
     "output_type": "stream",
     "text": [
      "aliased(Address)\n",
      "SELECT user_account.id, user_account.name, user_account.fullname, anon_1.id AS id_1, anon_1.email_address, anon_1.user_id \n",
      "FROM user_account JOIN (SELECT address.id AS id, address.email_address AS email_address, address.user_id AS user_id \n",
      "FROM address \n",
      "WHERE address.email_address NOT LIKE :email_address_1) AS anon_1 ON user_account.id = anon_1.user_id ORDER BY user_account.id, anon_1.id\n"
     ]
    }
   ],
   "source": [
    "#Subquery for orm.entities\n",
    "\n",
    "subq = select(Address).where(~Address.email_address.like(\"%@aol.com\")).subquery()\n",
    "address_subq = aliased(Address, subq)\n",
    "print(address_subq)\n",
    "row = select( User, address_subq).join_from(User, address_subq).order_by(User.id, address_subq.id)\n",
    "print(row)"
   ]
  },
  {
   "cell_type": "code",
   "execution_count": 5,
   "metadata": {},
   "outputs": [
    {
     "name": "stdout",
     "output_type": "stream",
     "text": [
      "SELECT address.id, address.email_address, address.user_id \n",
      "FROM address \n",
      "WHERE address.email_address NOT LIKE :email_address_1\n",
      "WITH anon_1 AS \n",
      "(SELECT address.id AS id, address.email_address AS email_address, address.user_id AS user_id \n",
      "FROM address \n",
      "WHERE address.email_address NOT LIKE :email_address_1)\n",
      " SELECT user_account.name, anon_1.id, anon_1.email_address, anon_1.user_id \n",
      "FROM user_account JOIN anon_1 ON user_account.id = anon_1.user_id ORDER BY user_account.id, anon_1.id\n"
     ]
    }
   ],
   "source": [
    "#Common table expressions\n",
    "subq = select(Address).where(~Address.email_address.like(\"%@example.com\")).cte()\n",
    "print(subq)\n",
    "address_subq = aliased(Address, subq)\n",
    "row = select(User.name, address_subq).join_from(User, address_subq).order_by(User.id, address_subq.id)\n",
    "print(row)\n"
   ]
  },
  {
   "cell_type": "code",
   "execution_count": 6,
   "metadata": {},
   "outputs": [
    {
     "name": "stdout",
     "output_type": "stream",
     "text": [
      "WITH anon_1 AS \n",
      "(SELECT address.id AS id, address.email_address AS email_address, address.user_id AS user_id \n",
      "FROM address \n",
      "WHERE address.email_address NOT LIKE :email_address_1)\n",
      " SELECT user_account.name, anon_1.id, anon_1.email_address, anon_1.user_id \n",
      "FROM user_account JOIN anon_1 ON user_account.id = anon_1.user_id ORDER BY user_account.id, anon_1.id\n",
      "2023-12-09 10:33:54,297 INFO sqlalchemy.engine.Engine BEGIN (implicit)\n",
      "2023-12-09 10:33:54,320 INFO sqlalchemy.engine.Engine WITH anon_1 AS \n",
      "(SELECT address.id AS id, address.email_address AS email_address, address.user_id AS user_id \n",
      "FROM address \n",
      "WHERE address.email_address NOT LIKE ?)\n",
      " SELECT user_account.name, anon_1.id, anon_1.email_address, anon_1.user_id \n",
      "FROM user_account JOIN anon_1 ON user_account.id = anon_1.user_id ORDER BY user_account.id, anon_1.id\n",
      "2023-12-09 10:33:54,327 INFO sqlalchemy.engine.Engine [generated in 0.00770s] ('%@example.com',)\n"
     ]
    },
    {
     "name": "stdout",
     "output_type": "stream",
     "text": [
      "[('sandy', Address(id=1, user_id=1, email_address=sandy@aol.com)), ('tony', Address(id=2, user_id=2, email_address=tony.start@aol.com)), ('thor', Address(id=3, user_id=3, email_address=baby.thor@aol.com))]\n",
      "2023-12-09 10:33:54,338 INFO sqlalchemy.engine.Engine ROLLBACK\n"
     ]
    }
   ],
   "source": [
    "with Session(engine) as session:\n",
    "    print(row)\n",
    "    result = session.execute(row).all()\n",
    "    print(result)"
   ]
  },
  {
   "cell_type": "code",
   "execution_count": 31,
   "metadata": {},
   "outputs": [],
   "source": []
  }
 ],
 "metadata": {
  "kernelspec": {
   "display_name": ".venv",
   "language": "python",
   "name": "python3"
  },
  "language_info": {
   "codemirror_mode": {
    "name": "ipython",
    "version": 3
   },
   "file_extension": ".py",
   "mimetype": "text/x-python",
   "name": "python",
   "nbconvert_exporter": "python",
   "pygments_lexer": "ipython3",
   "version": "3.11.3"
  },
  "orig_nbformat": 4
 },
 "nbformat": 4,
 "nbformat_minor": 2
}
