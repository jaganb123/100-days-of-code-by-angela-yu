{
 "cells": [
  {
   "cell_type": "code",
   "execution_count": 40,
   "metadata": {},
   "outputs": [
    {
     "name": "stdout",
     "output_type": "stream",
     "text": [
      "[{'Id': 1, 'Name': 'Jagan'}]\n",
      "{'Id': 1, 'Name': 'Jagan'}\n"
     ]
    }
   ],
   "source": [
    "import shelve\n",
    "\n",
    "d = shelve.open(\"d_file\")\n",
    "# d[\"Value\"] = []\n",
    "# temp = {\n",
    "#     \"Id\": 1,\n",
    "#     \"Name\": \"Jagan\"\n",
    "# }\n",
    "# data = d['Value']\n",
    "# data.append(temp)\n",
    "# d['Value'] = data\n",
    "print(d['Value'])\n",
    "for i in d[\"Value\"]:\n",
    "    print(i)\n",
    "\n",
    "d.close()\n"
   ]
  },
  {
   "cell_type": "code",
   "execution_count": 15,
   "metadata": {},
   "outputs": [],
   "source": [
    "import pickle\n",
    "\n",
    "data1 = {'a': [1, 2.0, 3, 4+6j],\n",
    "         'b': ('string', u'Unicode string'),\n",
    "         'c': None}\n",
    "\n",
    "\n",
    "selfref_list = [data1]\n",
    "selfref_list.append(selfref_list)\n",
    "# selfref_list = [1, 2, 3]\n",
    "# print(selfref_list)\n",
    "# selfref_list.append(selfref_list)\n",
    "# selfref_list.append(data1)\n",
    "# print(selfref_list)\n",
    "\n",
    "output = open('data.pkl', 'wb')\n",
    "\n",
    "# Pickle dictionary using protocol 0.\n",
    "pickle.dump(data1, output)\n",
    "\n",
    "# Pickle the list using the highest protocol available.\n",
    "pickle.dump(selfref_list, output, -1)\n",
    "\n",
    "output.close()\n"
   ]
  },
  {
   "cell_type": "code",
   "execution_count": 18,
   "metadata": {},
   "outputs": [
    {
     "name": "stdout",
     "output_type": "stream",
     "text": [
      "{'a': [1, 2.0, 3, (4+6j)], 'b': ('string', 'Unicode string'), 'c': None}\n",
      "[{'a': [1, 2.0, 3, (4+6j)], 'b': ('string', 'Unicode string'), 'c': None},\n",
      " <Recursion on list with id=4388408960>]\n",
      "[{'a': [1, 2.0, 3, (4+6j)], 'b': ('string', 'Unicode string'), 'c': None}, [...]]\n"
     ]
    }
   ],
   "source": [
    "import pprint, pickle\n",
    "\n",
    "pkl_file = open('data.pkl', 'rb')\n",
    "\n",
    "data1 = pickle.load(pkl_file)\n",
    "pprint.pprint(data1)\n",
    "\n",
    "data2 = pickle.load(pkl_file)\n",
    "pprint.pprint(data2)\n",
    "\n",
    "print(data2)\n",
    "\n",
    "pkl_file.close()"
   ]
  },
  {
   "cell_type": "code",
   "execution_count": 4,
   "metadata": {},
   "outputs": [
    {
     "name": "stdout",
     "output_type": "stream",
     "text": [
      "['/Users/jegan.babu/Downloads/VScode Projects/day 52 - instagram follower bot', '/Users/jegan.babu/Downloads/VScode Projects/day 52 - instagram follower bot/test', '/usr/local/Cellar/python@3.11/3.11.1/Frameworks/Python.framework/Versions/3.11/lib/python311.zip', '/usr/local/Cellar/python@3.11/3.11.1/Frameworks/Python.framework/Versions/3.11/lib/python3.11', '/usr/local/Cellar/python@3.11/3.11.1/Frameworks/Python.framework/Versions/3.11/lib/python3.11/lib-dynload', '', '/Users/jegan.babu/Library/Python/3.11/lib/python/site-packages', '/usr/local/lib/python3.11/site-packages']\n",
      "/Users/jegan.babu/Downloads/VScode Projects/day 52 - instagram follower bot\n",
      "checking\n",
      "Profile loaded successfully\n",
      "1 10\n",
      "1 10\n",
      "1\n",
      "2\n",
      "3\n",
      "4\n",
      "5\n",
      "6\n",
      "7\n",
      "8\n",
      "9\n",
      "10\n",
      "11 22\n",
      "11\n",
      "12\n",
      "13\n",
      "14\n",
      "15\n",
      "16\n",
      "17\n",
      "18\n",
      "19\n",
      "20\n"
     ]
    },
    {
     "ename": "NoSuchElementException",
     "evalue": "Message: Unable to locate element: div.x1i10hfl:nth-child(20) button\nStacktrace:\nRemoteError@chrome://remote/content/shared/RemoteError.sys.mjs:8:8\nWebDriverError@chrome://remote/content/shared/webdriver/Errors.sys.mjs:180:5\nNoSuchElementError@chrome://remote/content/shared/webdriver/Errors.sys.mjs:392:5\nelement.find/</<@chrome://remote/content/marionette/element.sys.mjs:275:16\n",
     "output_type": "error",
     "traceback": [
      "\u001b[0;31m---------------------------------------------------------------------------\u001b[0m",
      "\u001b[0;31mNoSuchElementException\u001b[0m                    Traceback (most recent call last)",
      "Cell \u001b[0;32mIn[4], line 22\u001b[0m\n\u001b[1;32m     19\u001b[0m bot\u001b[39m.\u001b[39mlogin(username\u001b[39m=\u001b[39mUSERNAME, password\u001b[39m=\u001b[39mPASSWORD)\n\u001b[1;32m     20\u001b[0m bot\u001b[39m.\u001b[39mfind_followers(PROFILE)\n\u001b[0;32m---> 22\u001b[0m bot\u001b[39m.\u001b[39;49mfollow(follow\u001b[39m=\u001b[39;49m\u001b[39mTrue\u001b[39;49;00m)\n",
      "File \u001b[0;32m~/Downloads/VScode Projects/day 52 - instagram follower bot/lib/InstagramFollowersBot.py:59\u001b[0m, in \u001b[0;36mInstagramBot.follow\u001b[0;34m(self, follow)\u001b[0m\n\u001b[1;32m     57\u001b[0m \u001b[39mself\u001b[39m\u001b[39m.\u001b[39mdriver\u001b[39m.\u001b[39mexecute_script(scroll) \u001b[39m# execute the js scroll\u001b[39;00m\n\u001b[1;32m     58\u001b[0m time\u001b[39m.\u001b[39msleep(\u001b[39m1\u001b[39m)\n\u001b[0;32m---> 59\u001b[0m follow_button \u001b[39m=\u001b[39m \u001b[39mself\u001b[39;49m\u001b[39m.\u001b[39;49mdriver\u001b[39m.\u001b[39;49mfind_element(By\u001b[39m.\u001b[39;49mCSS_SELECTOR, current_last_elem)\n\u001b[1;32m     60\u001b[0m \u001b[39mif\u001b[39;00m follow \u001b[39mand\u001b[39;00m follow_button\u001b[39m.\u001b[39mtext \u001b[39m==\u001b[39m \u001b[39m\"\u001b[39m\u001b[39mFollow\u001b[39m\u001b[39m\"\u001b[39m :\n\u001b[1;32m     61\u001b[0m     follow_button\u001b[39m.\u001b[39mclick()\n",
      "File \u001b[0;32m/usr/local/lib/python3.11/site-packages/selenium/webdriver/remote/webdriver.py:830\u001b[0m, in \u001b[0;36mWebDriver.find_element\u001b[0;34m(self, by, value)\u001b[0m\n\u001b[1;32m    827\u001b[0m     by \u001b[39m=\u001b[39m By\u001b[39m.\u001b[39mCSS_SELECTOR\n\u001b[1;32m    828\u001b[0m     value \u001b[39m=\u001b[39m \u001b[39mf\u001b[39m\u001b[39m'\u001b[39m\u001b[39m[name=\u001b[39m\u001b[39m\"\u001b[39m\u001b[39m{\u001b[39;00mvalue\u001b[39m}\u001b[39;00m\u001b[39m\"\u001b[39m\u001b[39m]\u001b[39m\u001b[39m'\u001b[39m\n\u001b[0;32m--> 830\u001b[0m \u001b[39mreturn\u001b[39;00m \u001b[39mself\u001b[39;49m\u001b[39m.\u001b[39;49mexecute(Command\u001b[39m.\u001b[39;49mFIND_ELEMENT, {\u001b[39m\"\u001b[39;49m\u001b[39musing\u001b[39;49m\u001b[39m\"\u001b[39;49m: by, \u001b[39m\"\u001b[39;49m\u001b[39mvalue\u001b[39;49m\u001b[39m\"\u001b[39;49m: value})[\u001b[39m\"\u001b[39m\u001b[39mvalue\u001b[39m\u001b[39m\"\u001b[39m]\n",
      "File \u001b[0;32m/usr/local/lib/python3.11/site-packages/selenium/webdriver/remote/webdriver.py:440\u001b[0m, in \u001b[0;36mWebDriver.execute\u001b[0;34m(self, driver_command, params)\u001b[0m\n\u001b[1;32m    438\u001b[0m response \u001b[39m=\u001b[39m \u001b[39mself\u001b[39m\u001b[39m.\u001b[39mcommand_executor\u001b[39m.\u001b[39mexecute(driver_command, params)\n\u001b[1;32m    439\u001b[0m \u001b[39mif\u001b[39;00m response:\n\u001b[0;32m--> 440\u001b[0m     \u001b[39mself\u001b[39;49m\u001b[39m.\u001b[39;49merror_handler\u001b[39m.\u001b[39;49mcheck_response(response)\n\u001b[1;32m    441\u001b[0m     response[\u001b[39m\"\u001b[39m\u001b[39mvalue\u001b[39m\u001b[39m\"\u001b[39m] \u001b[39m=\u001b[39m \u001b[39mself\u001b[39m\u001b[39m.\u001b[39m_unwrap_value(response\u001b[39m.\u001b[39mget(\u001b[39m\"\u001b[39m\u001b[39mvalue\u001b[39m\u001b[39m\"\u001b[39m, \u001b[39mNone\u001b[39;00m))\n\u001b[1;32m    442\u001b[0m     \u001b[39mreturn\u001b[39;00m response\n",
      "File \u001b[0;32m/usr/local/lib/python3.11/site-packages/selenium/webdriver/remote/errorhandler.py:245\u001b[0m, in \u001b[0;36mErrorHandler.check_response\u001b[0;34m(self, response)\u001b[0m\n\u001b[1;32m    243\u001b[0m         alert_text \u001b[39m=\u001b[39m value[\u001b[39m\"\u001b[39m\u001b[39malert\u001b[39m\u001b[39m\"\u001b[39m]\u001b[39m.\u001b[39mget(\u001b[39m\"\u001b[39m\u001b[39mtext\u001b[39m\u001b[39m\"\u001b[39m)\n\u001b[1;32m    244\u001b[0m     \u001b[39mraise\u001b[39;00m exception_class(message, screen, stacktrace, alert_text)  \u001b[39m# type: ignore[call-arg]  # mypy is not smart enough here\u001b[39;00m\n\u001b[0;32m--> 245\u001b[0m \u001b[39mraise\u001b[39;00m exception_class(message, screen, stacktrace)\n",
      "\u001b[0;31mNoSuchElementException\u001b[0m: Message: Unable to locate element: div.x1i10hfl:nth-child(20) button\nStacktrace:\nRemoteError@chrome://remote/content/shared/RemoteError.sys.mjs:8:8\nWebDriverError@chrome://remote/content/shared/webdriver/Errors.sys.mjs:180:5\nNoSuchElementError@chrome://remote/content/shared/webdriver/Errors.sys.mjs:392:5\nelement.find/</<@chrome://remote/content/marionette/element.sys.mjs:275:16\n"
     ]
    }
   ],
   "source": [
    "import os, sys, time\n",
    "from selenium.webdriver.common.by import By\n",
    "from selenium.webdriver.common.action_chains import ActionChains\n",
    "from selenium.webdriver.common.keys import Keys\n",
    "from selenium.webdriver.support.wait import WebDriverWait \n",
    "\n",
    "print(sys.path)\n",
    "print(os.path.abspath(\"..\"))\n",
    "sys.path.insert(0, os.path.abspath(\"..\"))\n",
    "\n",
    "from lib.InstagramFollowersBot import InstagramBot\n",
    "\n",
    "USERNAME = \"jagan22219971@gmail.com\"\n",
    "PASSWORD = \"JAGANjagan1997\"\n",
    "PROFILE = \"dad_lit_prince_abi_05\"\n",
    "\n",
    "\n",
    "bot = InstagramBot()\n",
    "bot.login(username=USERNAME, password=PASSWORD)\n",
    "bot.find_followers(PROFILE)\n",
    "\n",
    "bot.follow(follow=True)\n",
    "\n"
   ]
  },
  {
   "cell_type": "code",
   "execution_count": 3,
   "metadata": {},
   "outputs": [
    {
     "name": "stdout",
     "output_type": "stream",
     "text": [
      "1 10\n",
      "1 10\n",
      "1\n",
      "2\n",
      "3\n",
      "4\n",
      "5\n",
      "6\n",
      "7\n",
      "8\n",
      "9\n",
      "10\n",
      "11 24\n",
      "11\n",
      "12\n",
      "13\n",
      "14\n",
      "15\n",
      "16\n",
      "17\n",
      "18\n",
      "19\n",
      "20\n",
      "21\n",
      "22\n",
      "23\n",
      "24\n",
      "25 35\n",
      "25\n",
      "26\n"
     ]
    },
    {
     "ename": "ElementClickInterceptedException",
     "evalue": "Message: Element <button class=\"_acan _acap _acat _aj1-\" type=\"button\"> is not clickable at point (827,254) because another element <div class=\"x1gslohp\"> obscures it\nStacktrace:\nRemoteError@chrome://remote/content/shared/RemoteError.sys.mjs:8:8\nWebDriverError@chrome://remote/content/shared/webdriver/Errors.sys.mjs:180:5\nElementClickInterceptedError@chrome://remote/content/shared/webdriver/Errors.sys.mjs:279:5\nwebdriverClickElement@chrome://remote/content/marionette/interaction.sys.mjs:160:11\ninteraction.clickElement@chrome://remote/content/marionette/interaction.sys.mjs:119:11\nclickElement@chrome://remote/content/marionette/actors/MarionetteCommandsChild.sys.mjs:198:29\nreceiveMessage@chrome://remote/content/marionette/actors/MarionetteCommandsChild.sys.mjs:86:31\n",
     "output_type": "error",
     "traceback": [
      "\u001b[0;31m---------------------------------------------------------------------------\u001b[0m",
      "\u001b[0;31mElementClickInterceptedException\u001b[0m          Traceback (most recent call last)",
      "Cell \u001b[0;32mIn[3], line 1\u001b[0m\n\u001b[0;32m----> 1\u001b[0m bot\u001b[39m.\u001b[39;49mfollow(follow\u001b[39m=\u001b[39;49m\u001b[39mFalse\u001b[39;49;00m)\n\u001b[1;32m      2\u001b[0m \u001b[39m# import time\u001b[39;00m\n",
      "File \u001b[0;32m~/Downloads/VScode Projects/day 52 - instagram follower bot/lib/InstagramFollowersBot.py:63\u001b[0m, in \u001b[0;36mInstagramBot.follow\u001b[0;34m(self, follow)\u001b[0m\n\u001b[1;32m     61\u001b[0m     follow_button\u001b[39m.\u001b[39mclick()\n\u001b[1;32m     62\u001b[0m \u001b[39mif\u001b[39;00m \u001b[39mnot\u001b[39;00m follow \u001b[39mand\u001b[39;00m  follow_button\u001b[39m.\u001b[39mtext \u001b[39min\u001b[39;00m [\u001b[39m\"\u001b[39m\u001b[39mFollowing\u001b[39m\u001b[39m\"\u001b[39m, \u001b[39m\"\u001b[39m\u001b[39mRequested\u001b[39m\u001b[39m\"\u001b[39m]:\n\u001b[0;32m---> 63\u001b[0m     follow_button\u001b[39m.\u001b[39;49mclick()\n\u001b[1;32m     64\u001b[0m     time\u001b[39m.\u001b[39msleep(\u001b[39m1\u001b[39m)\n\u001b[1;32m     65\u001b[0m     \u001b[39mself\u001b[39m\u001b[39m.\u001b[39mdriver\u001b[39m.\u001b[39mfind_element(By\u001b[39m.\u001b[39mCSS_SELECTOR, \u001b[39m\"\u001b[39m\u001b[39mbutton._a9--:nth-child(2)\u001b[39m\u001b[39m\"\u001b[39m)\u001b[39m.\u001b[39mclick()\n",
      "File \u001b[0;32m/usr/local/lib/python3.11/site-packages/selenium/webdriver/remote/webelement.py:93\u001b[0m, in \u001b[0;36mWebElement.click\u001b[0;34m(self)\u001b[0m\n\u001b[1;32m     91\u001b[0m \u001b[39mdef\u001b[39;00m \u001b[39mclick\u001b[39m(\u001b[39mself\u001b[39m) \u001b[39m-\u001b[39m\u001b[39m>\u001b[39m \u001b[39mNone\u001b[39;00m:\n\u001b[1;32m     92\u001b[0m \u001b[39m    \u001b[39m\u001b[39m\"\"\"Clicks the element.\"\"\"\u001b[39;00m\n\u001b[0;32m---> 93\u001b[0m     \u001b[39mself\u001b[39;49m\u001b[39m.\u001b[39;49m_execute(Command\u001b[39m.\u001b[39;49mCLICK_ELEMENT)\n",
      "File \u001b[0;32m/usr/local/lib/python3.11/site-packages/selenium/webdriver/remote/webelement.py:403\u001b[0m, in \u001b[0;36mWebElement._execute\u001b[0;34m(self, command, params)\u001b[0m\n\u001b[1;32m    401\u001b[0m     params \u001b[39m=\u001b[39m {}\n\u001b[1;32m    402\u001b[0m params[\u001b[39m\"\u001b[39m\u001b[39mid\u001b[39m\u001b[39m\"\u001b[39m] \u001b[39m=\u001b[39m \u001b[39mself\u001b[39m\u001b[39m.\u001b[39m_id\n\u001b[0;32m--> 403\u001b[0m \u001b[39mreturn\u001b[39;00m \u001b[39mself\u001b[39;49m\u001b[39m.\u001b[39;49m_parent\u001b[39m.\u001b[39;49mexecute(command, params)\n",
      "File \u001b[0;32m/usr/local/lib/python3.11/site-packages/selenium/webdriver/remote/webdriver.py:440\u001b[0m, in \u001b[0;36mWebDriver.execute\u001b[0;34m(self, driver_command, params)\u001b[0m\n\u001b[1;32m    438\u001b[0m response \u001b[39m=\u001b[39m \u001b[39mself\u001b[39m\u001b[39m.\u001b[39mcommand_executor\u001b[39m.\u001b[39mexecute(driver_command, params)\n\u001b[1;32m    439\u001b[0m \u001b[39mif\u001b[39;00m response:\n\u001b[0;32m--> 440\u001b[0m     \u001b[39mself\u001b[39;49m\u001b[39m.\u001b[39;49merror_handler\u001b[39m.\u001b[39;49mcheck_response(response)\n\u001b[1;32m    441\u001b[0m     response[\u001b[39m\"\u001b[39m\u001b[39mvalue\u001b[39m\u001b[39m\"\u001b[39m] \u001b[39m=\u001b[39m \u001b[39mself\u001b[39m\u001b[39m.\u001b[39m_unwrap_value(response\u001b[39m.\u001b[39mget(\u001b[39m\"\u001b[39m\u001b[39mvalue\u001b[39m\u001b[39m\"\u001b[39m, \u001b[39mNone\u001b[39;00m))\n\u001b[1;32m    442\u001b[0m     \u001b[39mreturn\u001b[39;00m response\n",
      "File \u001b[0;32m/usr/local/lib/python3.11/site-packages/selenium/webdriver/remote/errorhandler.py:245\u001b[0m, in \u001b[0;36mErrorHandler.check_response\u001b[0;34m(self, response)\u001b[0m\n\u001b[1;32m    243\u001b[0m         alert_text \u001b[39m=\u001b[39m value[\u001b[39m\"\u001b[39m\u001b[39malert\u001b[39m\u001b[39m\"\u001b[39m]\u001b[39m.\u001b[39mget(\u001b[39m\"\u001b[39m\u001b[39mtext\u001b[39m\u001b[39m\"\u001b[39m)\n\u001b[1;32m    244\u001b[0m     \u001b[39mraise\u001b[39;00m exception_class(message, screen, stacktrace, alert_text)  \u001b[39m# type: ignore[call-arg]  # mypy is not smart enough here\u001b[39;00m\n\u001b[0;32m--> 245\u001b[0m \u001b[39mraise\u001b[39;00m exception_class(message, screen, stacktrace)\n",
      "\u001b[0;31mElementClickInterceptedException\u001b[0m: Message: Element <button class=\"_acan _acap _acat _aj1-\" type=\"button\"> is not clickable at point (827,254) because another element <div class=\"x1gslohp\"> obscures it\nStacktrace:\nRemoteError@chrome://remote/content/shared/RemoteError.sys.mjs:8:8\nWebDriverError@chrome://remote/content/shared/webdriver/Errors.sys.mjs:180:5\nElementClickInterceptedError@chrome://remote/content/shared/webdriver/Errors.sys.mjs:279:5\nwebdriverClickElement@chrome://remote/content/marionette/interaction.sys.mjs:160:11\ninteraction.clickElement@chrome://remote/content/marionette/interaction.sys.mjs:119:11\nclickElement@chrome://remote/content/marionette/actors/MarionetteCommandsChild.sys.mjs:198:29\nreceiveMessage@chrome://remote/content/marionette/actors/MarionetteCommandsChild.sys.mjs:86:31\n"
     ]
    }
   ],
   "source": [
    "# import time"
   ]
  },
  {
   "cell_type": "code",
   "execution_count": 13,
   "metadata": {},
   "outputs": [
    {
     "name": "stdout",
     "output_type": "stream",
     "text": [
      "1 137\n",
      "1 137\n",
      "1\n",
      "2\n",
      "3\n",
      "4\n",
      "5\n",
      "6\n",
      "7\n",
      "8\n",
      "9\n",
      "10\n",
      "11\n",
      "12\n",
      "13\n",
      "14\n",
      "15\n",
      "16\n",
      "17\n",
      "18\n",
      "19\n",
      "20\n",
      "21\n",
      "22\n",
      "23\n",
      "24\n",
      "25\n",
      "26\n",
      "27\n",
      "28\n",
      "29\n",
      "30\n",
      "31\n",
      "32\n",
      "33\n",
      "34\n",
      "35\n",
      "36\n",
      "37\n",
      "38\n"
     ]
    },
    {
     "ename": "JavascriptException",
     "evalue": "Message: TypeError: document.querySelector(...) is null\nStacktrace:\n@https://www.instagram.com/dad_lit_prince_abi_05/:2:16\n@https://www.instagram.com/dad_lit_prince_abi_05/:3:8\n",
     "output_type": "error",
     "traceback": [
      "\u001b[0;31m---------------------------------------------------------------------------\u001b[0m",
      "\u001b[0;31mJavascriptException\u001b[0m                       Traceback (most recent call last)",
      "Cell \u001b[0;32mIn[13], line 11\u001b[0m\n\u001b[1;32m      9\u001b[0m current_last_elem \u001b[39m=\u001b[39m \u001b[39mf\u001b[39m\u001b[39m\"\u001b[39m\u001b[39mdiv.x1i10hfl:nth-child(\u001b[39m\u001b[39m{\u001b[39;00mi\u001b[39m}\u001b[39;00m\u001b[39m) button\u001b[39m\u001b[39m\"\u001b[39m\n\u001b[1;32m     10\u001b[0m scroll \u001b[39m=\u001b[39m \u001b[39m\"\u001b[39m\u001b[39mdocument.querySelector(\u001b[39m\u001b[39m\\'\u001b[39;00m\u001b[39m\"\u001b[39m \u001b[39m+\u001b[39m current_last_elem \u001b[39m+\u001b[39m \u001b[39m\"\u001b[39m\u001b[39m\\'\u001b[39;00m\u001b[39m).scrollIntoView();\u001b[39m\u001b[39m\"\u001b[39m\n\u001b[0;32m---> 11\u001b[0m bot\u001b[39m.\u001b[39;49mdriver\u001b[39m.\u001b[39;49mexecute_script(scroll) \u001b[39m# execute the js scroll\u001b[39;00m\n\u001b[1;32m     12\u001b[0m follow_button \u001b[39m=\u001b[39m bot\u001b[39m.\u001b[39mdriver\u001b[39m.\u001b[39mfind_element(By\u001b[39m.\u001b[39mCSS_SELECTOR, current_last_elem)\n\u001b[1;32m     13\u001b[0m \u001b[39mif\u001b[39;00m follow_button\u001b[39m.\u001b[39mtext \u001b[39min\u001b[39;00m [\u001b[39m\"\u001b[39m\u001b[39mFollowing\u001b[39m\u001b[39m\"\u001b[39m, \u001b[39m\"\u001b[39m\u001b[39mRequested\u001b[39m\u001b[39m\"\u001b[39m]:\n",
      "File \u001b[0;32m/usr/local/lib/python3.11/site-packages/selenium/webdriver/remote/webdriver.py:500\u001b[0m, in \u001b[0;36mWebDriver.execute_script\u001b[0;34m(self, script, *args)\u001b[0m\n\u001b[1;32m    497\u001b[0m converted_args \u001b[39m=\u001b[39m \u001b[39mlist\u001b[39m(args)\n\u001b[1;32m    498\u001b[0m command \u001b[39m=\u001b[39m Command\u001b[39m.\u001b[39mW3C_EXECUTE_SCRIPT\n\u001b[0;32m--> 500\u001b[0m \u001b[39mreturn\u001b[39;00m \u001b[39mself\u001b[39;49m\u001b[39m.\u001b[39;49mexecute(command, {\u001b[39m\"\u001b[39;49m\u001b[39mscript\u001b[39;49m\u001b[39m\"\u001b[39;49m: script, \u001b[39m\"\u001b[39;49m\u001b[39margs\u001b[39;49m\u001b[39m\"\u001b[39;49m: converted_args})[\u001b[39m\"\u001b[39m\u001b[39mvalue\u001b[39m\u001b[39m\"\u001b[39m]\n",
      "File \u001b[0;32m/usr/local/lib/python3.11/site-packages/selenium/webdriver/remote/webdriver.py:440\u001b[0m, in \u001b[0;36mWebDriver.execute\u001b[0;34m(self, driver_command, params)\u001b[0m\n\u001b[1;32m    438\u001b[0m response \u001b[39m=\u001b[39m \u001b[39mself\u001b[39m\u001b[39m.\u001b[39mcommand_executor\u001b[39m.\u001b[39mexecute(driver_command, params)\n\u001b[1;32m    439\u001b[0m \u001b[39mif\u001b[39;00m response:\n\u001b[0;32m--> 440\u001b[0m     \u001b[39mself\u001b[39;49m\u001b[39m.\u001b[39;49merror_handler\u001b[39m.\u001b[39;49mcheck_response(response)\n\u001b[1;32m    441\u001b[0m     response[\u001b[39m\"\u001b[39m\u001b[39mvalue\u001b[39m\u001b[39m\"\u001b[39m] \u001b[39m=\u001b[39m \u001b[39mself\u001b[39m\u001b[39m.\u001b[39m_unwrap_value(response\u001b[39m.\u001b[39mget(\u001b[39m\"\u001b[39m\u001b[39mvalue\u001b[39m\u001b[39m\"\u001b[39m, \u001b[39mNone\u001b[39;00m))\n\u001b[1;32m    442\u001b[0m     \u001b[39mreturn\u001b[39;00m response\n",
      "File \u001b[0;32m/usr/local/lib/python3.11/site-packages/selenium/webdriver/remote/errorhandler.py:245\u001b[0m, in \u001b[0;36mErrorHandler.check_response\u001b[0;34m(self, response)\u001b[0m\n\u001b[1;32m    243\u001b[0m         alert_text \u001b[39m=\u001b[39m value[\u001b[39m\"\u001b[39m\u001b[39malert\u001b[39m\u001b[39m\"\u001b[39m]\u001b[39m.\u001b[39mget(\u001b[39m\"\u001b[39m\u001b[39mtext\u001b[39m\u001b[39m\"\u001b[39m)\n\u001b[1;32m    244\u001b[0m     \u001b[39mraise\u001b[39;00m exception_class(message, screen, stacktrace, alert_text)  \u001b[39m# type: ignore[call-arg]  # mypy is not smart enough here\u001b[39;00m\n\u001b[0;32m--> 245\u001b[0m \u001b[39mraise\u001b[39;00m exception_class(message, screen, stacktrace)\n",
      "\u001b[0;31mJavascriptException\u001b[0m: Message: TypeError: document.querySelector(...) is null\nStacktrace:\n@https://www.instagram.com/dad_lit_prince_abi_05/:2:16\n@https://www.instagram.com/dad_lit_prince_abi_05/:3:8\n"
     ]
    }
   ],
   "source": [
    "button = bot.driver.find_elements(By.CSS_SELECTOR, \"._aano > div:nth-child(1) > div:nth-child(1) button\")\n",
    "current_position = 1\n",
    "current_len = len(button)\n",
    "print(current_position,  current_len)\n",
    "while not current_position >= current_len:\n",
    "    print(current_position,  current_len)\n",
    "    for i in range(current_position, current_len + 1):\n",
    "        print(current_position)\n",
    "        current_last_elem = f\"div.x1i10hfl:nth-child({i}) button\"\n",
    "        scroll = \"document.querySelector(\\'\" + current_last_elem + \"\\').scrollIntoView();\"\n",
    "        bot.driver.execute_script(scroll) # execute the js scroll\n",
    "        follow_button = bot.driver.find_element(By.CSS_SELECTOR, current_last_elem)\n",
    "        # if follow_button.text in [\"Following\", \"Requested\"]:\n",
    "        #     follow_button.click()\n",
    "        #     time.sleep(1)\n",
    "        #     bot.driver.find_element(By.CSS_SELECTOR, \"button._a9--:nth-child(2)\").click()\n",
    "        if follow_button.text == \"Follow\":\n",
    "            follow_button.click()\n",
    "        time.sleep(1)\n",
    "        current_position += 1\n",
    "    time.sleep(5)\n",
    "    current_len = len(bot.driver.find_elements(By.CSS_SELECTOR, \"._aano > div:nth-child(1) > div:nth-child(1) button\"))\n",
    "    if current_position > 100:\n",
    "        break\n",
    "    \n"
   ]
  },
  {
   "cell_type": "code",
   "execution_count": 2,
   "metadata": {},
   "outputs": [
    {
     "name": "stdout",
     "output_type": "stream",
     "text": [
      "checking\n"
     ]
    }
   ],
   "source": []
  },
  {
   "cell_type": "code",
   "execution_count": 3,
   "metadata": {},
   "outputs": [
    {
     "name": "stdout",
     "output_type": "stream",
     "text": [
      "Profile loaded successfully\n"
     ]
    }
   ],
   "source": []
  },
  {
   "cell_type": "code",
   "execution_count": 4,
   "metadata": {},
   "outputs": [
    {
     "ename": "TypeError",
     "evalue": "object of type 'int' has no len()",
     "output_type": "error",
     "traceback": [
      "\u001b[0;31m---------------------------------------------------------------------------\u001b[0m",
      "\u001b[0;31mTypeError\u001b[0m                                 Traceback (most recent call last)",
      "Cell \u001b[0;32mIn[4], line 1\u001b[0m\n\u001b[0;32m----> 1\u001b[0m bot\u001b[39m.\u001b[39;49mfollow()\n\u001b[1;32m      2\u001b[0m \u001b[39m# follower_button = bot.driver.find_element(By.CSS_SELECTOR, f'a[href=\"/{bot.target_profile}/followers/\"] span').click()\u001b[39;00m\n\u001b[1;32m      3\u001b[0m \u001b[39m# import time\u001b[39;00m\n",
      "File \u001b[0;32m~/Downloads/VScode Projects/day 52 - instagram follower bot/lib/InstagramFollowersBot.py:49\u001b[0m, in \u001b[0;36mInstagramBot.follow\u001b[0;34m(self)\u001b[0m\n\u001b[1;32m     47\u001b[0m current_position \u001b[39m=\u001b[39m \u001b[39m1\u001b[39m\n\u001b[1;32m     48\u001b[0m current_len \u001b[39m=\u001b[39m \u001b[39mlen\u001b[39m(button)\n\u001b[0;32m---> 49\u001b[0m \u001b[39mprint\u001b[39m(current_position,  \u001b[39mlen\u001b[39;49m(current_len))\n\u001b[1;32m     50\u001b[0m \u001b[39mwhile\u001b[39;00m current_position \u001b[39m==\u001b[39m current_len:\n\u001b[1;32m     51\u001b[0m     \u001b[39mprint\u001b[39m(current_position,  \u001b[39mlen\u001b[39m(current_len))\n",
      "\u001b[0;31mTypeError\u001b[0m: object of type 'int' has no len()"
     ]
    }
   ],
   "source": [
    "bot.follow()\n",
    "# follower_button = bot.driver.find_element(By.CSS_SELECTOR, f'a[href=\"/{bot.target_profile}/followers/\"] span').click()\n",
    "# import time"
   ]
  },
  {
   "cell_type": "code",
   "execution_count": 67,
   "metadata": {},
   "outputs": [
    {
     "name": "stdout",
     "output_type": "stream",
     "text": [
      "148\n"
     ]
    }
   ],
   "source": [
    "button = bot.driver.find_elements(By.CSS_SELECTOR, \"._aano > div:nth-child(1) > div:nth-child(1) button\")\n",
    "print(len(button))\n",
    "in_position = 1\n",
    "current_len = len(button)"
   ]
  },
  {
   "cell_type": "code",
   "execution_count": 68,
   "metadata": {},
   "outputs": [],
   "source": [
    "# scr1 = bot.driver.find_element_by_xpath('/html/body/div[2]/div/div[2]/div/div[2]')\n",
    "# iframe = bot.driver.find_element(By.XPATH, \"/html/body/div[2]/div/div/div[2]/div/div/div[1]/div/div[2]/div/div/div/div/div[2]/div/div/div[2]/div[1]/div/div[2]\")\n",
    "for i in range(in_position, current_len):\n",
    "    current_last_elem = f\"div.x1i10hfl:nth-child({i}) button\"\n",
    "    scroll = \"document.querySelector(\\'\" + current_last_elem + \"\\').scrollIntoView();\"\n",
    "    bot.driver.execute_script(scroll) # execute the js scroll\n",
    "    time.sleep(1) # wait for page to load new content\n",
    "current_len = len(button)\n",
    "in_position += 1"
   ]
  }
 ],
 "metadata": {
  "kernelspec": {
   "display_name": "Python 3",
   "language": "python",
   "name": "python3"
  },
  "language_info": {
   "codemirror_mode": {
    "name": "ipython",
    "version": 3
   },
   "file_extension": ".py",
   "mimetype": "text/x-python",
   "name": "python",
   "nbconvert_exporter": "python",
   "pygments_lexer": "ipython3",
   "version": "3.11.1 (main, Dec 23 2022, 09:40:27) [Clang 14.0.0 (clang-1400.0.29.202)]"
  },
  "orig_nbformat": 4,
  "vscode": {
   "interpreter": {
    "hash": "aee8b7b246df8f9039afb4144a1f6fd8d2ca17a180786b69acc140d282b71a49"
   }
  }
 },
 "nbformat": 4,
 "nbformat_minor": 2
}
