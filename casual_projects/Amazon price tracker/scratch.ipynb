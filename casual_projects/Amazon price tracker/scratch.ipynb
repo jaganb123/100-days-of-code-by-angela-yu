{
 "cells": [
  {
   "cell_type": "code",
   "execution_count": 1,
   "metadata": {},
   "outputs": [],
   "source": [
    "from utility import get_html_response, extract_data\n",
    "\n",
    "data_1 = get_html_response('https://www.amazon.in/ZEBRONICS-80-protections-Zeb-PGP450W-Plus/dp/B09RV5R1MP')\n",
    "data_2 = get_html_response('https://www.amazon.in/ASRock-MicroATX-Motherboard-B450M-PRO4/dp/B07FVYKFXF')\n"
   ]
  },
  {
   "cell_type": "code",
   "execution_count": 3,
   "metadata": {},
   "outputs": [],
   "source": [
    "from bs4 import BeautifulSoup\n",
    "import json\n",
    "\n",
    "soup1 = BeautifulSoup(data_1, \"html.parser\")\n",
    "soup2 = BeautifulSoup(data_2, \"html.parser\")\n"
   ]
  },
  {
   "cell_type": "code",
   "execution_count": 18,
   "metadata": {},
   "outputs": [
    {
     "name": "stdout",
     "output_type": "stream",
     "text": [
      " In stock \n"
     ]
    }
   ],
   "source": [
    "availability_check = soup1.find(id=\"availability\").find(name=\"span\").text\n",
    "print(availability_check)"
   ]
  },
  {
   "cell_type": "code",
   "execution_count": 24,
   "metadata": {},
   "outputs": [
    {
     "data": {
      "text/plain": [
       "True"
      ]
     },
     "execution_count": 24,
     "metadata": {},
     "output_type": "execute_result"
    }
   ],
   "source": [
    "\"In stock\" in availability_check"
   ]
  },
  {
   "cell_type": "code",
   "execution_count": 17,
   "metadata": {},
   "outputs": [
    {
     "name": "stdout",
     "output_type": "stream",
     "text": [
      "    Currently unavailable.   \n"
     ]
    }
   ],
   "source": [
    "availability_check = soup2.find(id=\"availability\").find(name=\"span\").text\n",
    "print(availability_check)"
   ]
  }
 ],
 "metadata": {
  "kernelspec": {
   "display_name": ".venv",
   "language": "python",
   "name": "python3"
  },
  "language_info": {
   "codemirror_mode": {
    "name": "ipython",
    "version": 3
   },
   "file_extension": ".py",
   "mimetype": "text/x-python",
   "name": "python",
   "nbconvert_exporter": "python",
   "pygments_lexer": "ipython3",
   "version": "3.11.3"
  },
  "orig_nbformat": 4,
  "vscode": {
   "interpreter": {
    "hash": "98f86bf92c90ae9da5430bd185dc5fab6637e0afb4e517650dfaa561c7c01349"
   }
  }
 },
 "nbformat": 4,
 "nbformat_minor": 2
}
