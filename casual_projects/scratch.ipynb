{
 "cells": [
  {
   "cell_type": "code",
   "execution_count": 32,
   "metadata": {},
   "outputs": [],
   "source": [
    "import datetime"
   ]
  },
  {
   "cell_type": "code",
   "execution_count": 4,
   "metadata": {},
   "outputs": [],
   "source": [
    "dateObj.today()"
   ]
  },
  {
   "cell_type": "code",
   "execution_count": 23,
   "metadata": {},
   "outputs": [],
   "source": [
    "def minMaxDateOfMonth(date: datetime.date):\n",
    "    if date.month == 2:\n",
    "        if not date.year % 4:\n",
    "            if not date.year % 100:\n",
    "                return (1, 29)\n",
    "            else:\n",
    "                if not date.year % 400:\n",
    "                    return (1, 29)\n",
    "                else:\n",
    "                    return (1, 29)\n",
    "        else:\n",
    "            return (1, 28)\n",
    "    elif date.month in [1, 3, 5, 7, 8, 10, 12]:\n",
    "        return (1, 31)\n",
    "    else:\n",
    "        return (1, 30)\n"
   ]
  },
  {
   "cell_type": "code",
   "execution_count": 37,
   "metadata": {},
   "outputs": [
    {
     "name": "stdout",
     "output_type": "stream",
     "text": [
      "5\n"
     ]
    }
   ],
   "source": [
    "dateObj = datetime.date(day=1, month=4, year=2023)\n",
    "print(dateObj.weekday())"
   ]
  },
  {
   "cell_type": "code",
   "execution_count": 36,
   "metadata": {},
   "outputs": [
    {
     "data": {
      "text/plain": [
       "3"
      ]
     },
     "execution_count": 36,
     "metadata": {},
     "output_type": "execute_result"
    }
   ],
   "source": [
    "dateObj.weekday()"
   ]
  }
 ],
 "metadata": {
  "kernelspec": {
   "display_name": ".venv",
   "language": "python",
   "name": "python3"
  },
  "language_info": {
   "codemirror_mode": {
    "name": "ipython",
    "version": 3
   },
   "file_extension": ".py",
   "mimetype": "text/x-python",
   "name": "python",
   "nbconvert_exporter": "python",
   "pygments_lexer": "ipython3",
   "version": "3.11.3"
  },
  "orig_nbformat": 4,
  "vscode": {
   "interpreter": {
    "hash": "0717abb08e46efd8518b275da97be6599b67c3b4447b1a3eb4135381ab19e639"
   }
  }
 },
 "nbformat": 4,
 "nbformat_minor": 2
}
